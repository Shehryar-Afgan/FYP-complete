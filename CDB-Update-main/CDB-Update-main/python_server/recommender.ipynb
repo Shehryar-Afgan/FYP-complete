{
 "cells": [
  {
   "cell_type": "code",
   "execution_count": 13,
   "metadata": {},
   "outputs": [
    {
     "name": "stdout",
     "output_type": "stream",
     "text": [
      "Accuracy: 0.39344262295081966\n",
      "Based on your input, the recommended university is: Jinnah Sindh Medical University Gilgit\n"
     ]
    }
   ],
   "source": [
    "import pandas as pd\n",
    "from sklearn.model_selection import train_test_split\n",
    "from sklearn.neighbors import KNeighborsClassifier\n",
    "\n",
    "# Load the dataset\n",
    "df = pd.read_csv('universities.csv')\n",
    "\n",
    "# Define the features and target\n",
    "X = df[['Metric marks', 'FSc Marks', 'Field', 'City']]\n",
    "y = df['Name of Uni']\n",
    "\n",
    "# Convert the categorical features into numerical features using one-hot encoding\n",
    "X = pd.get_dummies(X)\n",
    "\n",
    "# Calculate the merit score\n",
    "X['Merit'] = (X['Metric marks'] / 1100 * 0.3) + (X['FSc Marks'] / 1100 * 0.7)\n",
    "\n",
    "# Split the data into training and testing sets\n",
    "X_train, X_test, y_train, y_test = train_test_split(X, y, test_size=0.2, random_state=42)\n",
    "\n",
    "# Ask for user input\n",
    "metric_marks = int(input(\"Enter your metric marks (out of 1100): \"))\n",
    "fsc_marks = int(input(\"Enter your FSc marks (out of 1100): \"))\n",
    "field = input(\"Enter your preferred field (e.g., mbbs, bba, software engineering): \")\n",
    "city = input(\"Enter your preferred city: \")\n",
    "\n",
    "# Create a dataframe for user input\n",
    "user_input = pd.DataFrame({'Metric marks': [metric_marks], 'FSc Marks': [fsc_marks], 'Field': [field], 'City': [city]})\n",
    "\n",
    "# Convert the categorical features into numerical features using one-hot encoding\n",
    "user_input = pd.get_dummies(user_input)\n",
    "\n",
    "# Reindex the user input dataframe to match the columns of the training data\n",
    "user_input = user_input.reindex(columns=X.columns, fill_value=0)\n",
    "\n",
    "# Calculate the merit score for user input\n",
    "user_input['Merit'] = (user_input['Metric marks'] / 1100 * 0.3) + (user_input['FSc Marks'] / 1100 * 0.7)\n",
    "\n",
    "# Initialize the KNN model with the best parameters\n",
    "best_params = {'n_neighbors': 5, 'weights': 'distance'}\n",
    "knn = KNeighborsClassifier(**best_params)\n",
    "\n",
    "# Fit the KNN model on the training set\n",
    "knn.fit(X_train, y_train)\n",
    "\n",
    "# Evaluate the model on the testing set\n",
    "accuracy = knn.score(X_test, y_test)\n",
    "print(\"Accuracy:\", accuracy)\n",
    "\n",
    "# Predict the university for user input\n",
    "prediction = knn.predict(user_input)\n",
    "\n",
    "# Print the predicted university\n",
    "print(\"Based on your input, the recommended university is:\", prediction[0])\n"
   ]
  }
 ],
 "metadata": {
  "kernelspec": {
   "display_name": "Python 3",
   "language": "python",
   "name": "python3"
  },
  "language_info": {
   "codemirror_mode": {
    "name": "ipython",
    "version": 3
   },
   "file_extension": ".py",
   "mimetype": "text/x-python",
   "name": "python",
   "nbconvert_exporter": "python",
   "pygments_lexer": "ipython3",
   "version": "3.8.10"
  },
  "orig_nbformat": 4
 },
 "nbformat": 4,
 "nbformat_minor": 2
}
